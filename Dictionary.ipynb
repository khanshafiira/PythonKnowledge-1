{
 "cells": [
  {
   "cell_type": "markdown",
   "id": "f205813c-5a7b-4b00-b602-f93164a60c61",
   "metadata": {},
   "source": [
    "DICTIONARY\n",
    "\n",
    "A dictionary is a collection of key-value pairs. It can be viewed as a mapping structure in which keys are assigned to values."
   ]
  },
  {
   "cell_type": "markdown",
   "id": "9bbf9730-9a3a-4f13-a028-9d1ebd8440bf",
   "metadata": {},
   "source": [
    "1. Common dictionary"
   ]
  },
  {
   "cell_type": "code",
   "execution_count": 1,
   "id": "70abe9d6-6ae0-46fb-b139-d3abc4527d5c",
   "metadata": {},
   "outputs": [],
   "source": [
    "a = {\"city\": \"Jogjakarta\", \"postal code\": 17345}"
   ]
  },
  {
   "cell_type": "code",
   "execution_count": 2,
   "id": "aecf93b9-da10-412f-b44d-24c06637e408",
   "metadata": {},
   "outputs": [
    {
     "data": {
      "text/plain": [
       "dict"
      ]
     },
     "execution_count": 2,
     "metadata": {},
     "output_type": "execute_result"
    }
   ],
   "source": [
    "type(a)"
   ]
  },
  {
   "cell_type": "code",
   "execution_count": 3,
   "id": "4bbd67be-7e21-4b46-96f7-b31da5dafe6c",
   "metadata": {},
   "outputs": [
    {
     "data": {
      "text/plain": [
       "'Jogjakarta'"
      ]
     },
     "execution_count": 3,
     "metadata": {},
     "output_type": "execute_result"
    }
   ],
   "source": [
    "a[\"city\"]"
   ]
  },
  {
   "cell_type": "markdown",
   "id": "e30a4a3f-59f0-47c4-981b-720443a60b2a",
   "metadata": {},
   "source": [
    "2. Nested dictionary"
   ]
  },
  {
   "cell_type": "code",
   "execution_count": 4,
   "id": "f903db8b-b8bb-4f5d-bec5-bd5ee37b9070",
   "metadata": {},
   "outputs": [],
   "source": [
    "b = {\"Snack\": {\"snack_1\": \"Ovomaltine Biscuit\",\n",
    "              \"snack_2\": \"Beng Beng\",\n",
    "              \"snack_3\": \"Qtela Chips\"}\n",
    "    }"
   ]
  },
  {
   "cell_type": "code",
   "execution_count": 5,
   "id": "b979f3bc-38e1-40d0-b08d-bec79d29aa39",
   "metadata": {},
   "outputs": [
    {
     "data": {
      "text/plain": [
       "'Beng Beng'"
      ]
     },
     "execution_count": 5,
     "metadata": {},
     "output_type": "execute_result"
    }
   ],
   "source": [
    "b['Snack']['snack_2']"
   ]
  }
 ],
 "metadata": {
  "kernelspec": {
   "display_name": "Python 3 (ipykernel)",
   "language": "python",
   "name": "python3"
  },
  "language_info": {
   "codemirror_mode": {
    "name": "ipython",
    "version": 3
   },
   "file_extension": ".py",
   "mimetype": "text/x-python",
   "name": "python",
   "nbconvert_exporter": "python",
   "pygments_lexer": "ipython3",
   "version": "3.11.7"
  }
 },
 "nbformat": 4,
 "nbformat_minor": 5
}
