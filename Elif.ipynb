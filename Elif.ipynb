{
 "cells": [
  {
   "cell_type": "markdown",
   "id": "2c59535c-bb2e-4da0-82cd-4051fdae73a6",
   "metadata": {},
   "source": [
    "ELIF STATEMENT\n",
    "\n",
    "‘Elif’ stands for ‘else if’ and is used in Python programming to test multiple conditions. It is written after an if statement in Python to verify an alternative condition if the first one is false. The code block enclosed by the elif expression will be executed only if its condition is true."
   ]
  },
  {
   "cell_type": "markdown",
   "id": "a78bccb6-7795-4b78-b8d7-3d42020a2fe0",
   "metadata": {},
   "source": [
    "Example #1"
   ]
  },
  {
   "cell_type": "code",
   "execution_count": 2,
   "id": "10b39fdb-13a6-4ef4-a1f3-1ec6a8ed3519",
   "metadata": {},
   "outputs": [
    {
     "name": "stdin",
     "output_type": "stream",
     "text": [
      "stock remaining:  5\n"
     ]
    },
    {
     "name": "stdout",
     "output_type": "stream",
     "text": [
      "prepare for restock\n"
     ]
    }
   ],
   "source": [
    "inventory = int(input(\"stock remaining: \"))\n",
    "\n",
    "if inventory >= 10:\n",
    "    print(\"available\")\n",
    "elif inventory >= 6:\n",
    "    print(\"running low of stock\")\n",
    "else:\n",
    "    print(\"prepare for restock\")"
   ]
  },
  {
   "cell_type": "code",
   "execution_count": 3,
   "id": "9990fef0-9bcc-451e-8d20-ebe8e04671c9",
   "metadata": {},
   "outputs": [
    {
     "name": "stdin",
     "output_type": "stream",
     "text": [
      "stock remaining:  8\n"
     ]
    },
    {
     "name": "stdout",
     "output_type": "stream",
     "text": [
      "running low of stock\n"
     ]
    }
   ],
   "source": [
    "inventory = int(input(\"stock remaining: \"))\n",
    "\n",
    "if inventory >= 10:\n",
    "    print(\"available\")\n",
    "elif inventory >= 6:\n",
    "    print(\"running low of stock\")\n",
    "else:\n",
    "    print(\"prepare for restock\")"
   ]
  },
  {
   "cell_type": "code",
   "execution_count": 4,
   "id": "456c07ec-45b7-4791-b35a-647d588453f3",
   "metadata": {},
   "outputs": [
    {
     "name": "stdin",
     "output_type": "stream",
     "text": [
      "stock remaining:  13\n"
     ]
    },
    {
     "name": "stdout",
     "output_type": "stream",
     "text": [
      "available\n"
     ]
    }
   ],
   "source": [
    "inventory = int(input(\"stock remaining: \"))\n",
    "\n",
    "if inventory >= 10:\n",
    "    print(\"available\")\n",
    "elif inventory >= 6:\n",
    "    print(\"running low of stock\")\n",
    "else:\n",
    "    print(\"prepare for restock\")"
   ]
  }
 ],
 "metadata": {
  "kernelspec": {
   "display_name": "Python 3 (ipykernel)",
   "language": "python",
   "name": "python3"
  },
  "language_info": {
   "codemirror_mode": {
    "name": "ipython",
    "version": 3
   },
   "file_extension": ".py",
   "mimetype": "text/x-python",
   "name": "python",
   "nbconvert_exporter": "python",
   "pygments_lexer": "ipython3",
   "version": "3.11.7"
  }
 },
 "nbformat": 4,
 "nbformat_minor": 5
}
