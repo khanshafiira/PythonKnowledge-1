{
 "cells": [
  {
   "cell_type": "markdown",
   "id": "4e318a49-4155-4a6f-9f17-c8c8629e3723",
   "metadata": {},
   "source": [
    "ELSE STATEMENT\n",
    "\n",
    "The else statement is used to execute both the true part and the false part of a given condition. If the condition is true, the if block code is executed and if the condition is false, the else block code is executed."
   ]
  },
  {
   "cell_type": "markdown",
   "id": "bb563f6a-e545-4e6e-9c1e-a11b5ca2b956",
   "metadata": {},
   "source": [
    "Example #1"
   ]
  },
  {
   "cell_type": "code",
   "execution_count": 1,
   "id": "e874cef6-463c-48a1-8204-90bca6a3f737",
   "metadata": {},
   "outputs": [
    {
     "name": "stdin",
     "output_type": "stream",
     "text": [
      "stock remaining:  2\n"
     ]
    },
    {
     "name": "stdout",
     "output_type": "stream",
     "text": [
      "running low of stock\n"
     ]
    }
   ],
   "source": [
    "inventory = int(input(\"stock remaining: \"))\n",
    "\n",
    "if inventory <= 3:\n",
    "    print(\"running low of stock\")\n",
    "else:\n",
    "    print(\"available\")"
   ]
  },
  {
   "cell_type": "code",
   "execution_count": 2,
   "id": "3b389fb5-3b94-49be-920a-d135fdfeec0d",
   "metadata": {},
   "outputs": [
    {
     "name": "stdin",
     "output_type": "stream",
     "text": [
      "stock remaining:  17\n"
     ]
    },
    {
     "name": "stdout",
     "output_type": "stream",
     "text": [
      "available\n"
     ]
    }
   ],
   "source": [
    "inventory = int(input(\"stock remaining: \"))\n",
    "\n",
    "if inventory <= 3:\n",
    "    print(\"running low of stock\")\n",
    "else:\n",
    "    print(\"available\")"
   ]
  },
  {
   "cell_type": "code",
   "execution_count": 3,
   "id": "7ef89c1e-7f5a-46fa-accb-515bc8cbe2d1",
   "metadata": {},
   "outputs": [
    {
     "name": "stdin",
     "output_type": "stream",
     "text": [
      "stock remaining:  5\n"
     ]
    },
    {
     "name": "stdout",
     "output_type": "stream",
     "text": [
      "available\n"
     ]
    }
   ],
   "source": [
    "inventory = int(input(\"stock remaining: \"))\n",
    "\n",
    "if inventory <= 3:\n",
    "    print(\"running low of stock\")\n",
    "else:\n",
    "    print(\"available\")"
   ]
  }
 ],
 "metadata": {
  "kernelspec": {
   "display_name": "Python 3 (ipykernel)",
   "language": "python",
   "name": "python3"
  },
  "language_info": {
   "codemirror_mode": {
    "name": "ipython",
    "version": 3
   },
   "file_extension": ".py",
   "mimetype": "text/x-python",
   "name": "python",
   "nbconvert_exporter": "python",
   "pygments_lexer": "ipython3",
   "version": "3.11.7"
  }
 },
 "nbformat": 4,
 "nbformat_minor": 5
}
