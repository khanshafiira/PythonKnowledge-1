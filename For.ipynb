{
 "cells": [
  {
   "cell_type": "markdown",
   "id": "5dd29b82-08f7-4a88-be1e-629cccb3be29",
   "metadata": {},
   "source": [
    "FOR LOOP\n",
    "\n",
    "A for Loop is used to iterate over a list, tuple, or string, as well as other iterable objects. Iterating over a sequence involves going through each element one by one."
   ]
  },
  {
   "cell_type": "markdown",
   "id": "2e468476-b7d4-4ff6-af2b-68433b6ca078",
   "metadata": {},
   "source": [
    "1. Basic For Loop"
   ]
  },
  {
   "cell_type": "code",
   "execution_count": 1,
   "id": "ac459a43-d74a-4a55-a697-a3cfc5538f6d",
   "metadata": {},
   "outputs": [
    {
     "name": "stdout",
     "output_type": "stream",
     "text": [
      "letter l\n",
      "letter o\n",
      "letter n\n",
      "letter d\n",
      "letter o\n",
      "letter n\n"
     ]
    }
   ],
   "source": [
    "for a in 'london':\n",
    "    print(\"letter {}\". format(a))"
   ]
  },
  {
   "cell_type": "code",
   "execution_count": 2,
   "id": "ac3e3192-cdfb-49a5-8379-6f855a4da7b2",
   "metadata": {},
   "outputs": [
    {
     "name": "stdout",
     "output_type": "stream",
     "text": [
      "snack Bengbeng\n",
      "snack milkita\n",
      "snack ovaltine cookies\n"
     ]
    }
   ],
   "source": [
    "snack = ['Bengbeng', 'milkita', 'ovaltine cookies']\n",
    "\n",
    "for b in snack:\n",
    "    print(\"snack {}\". format(b))"
   ]
  },
  {
   "cell_type": "code",
   "execution_count": 3,
   "id": "a7480050-85e7-467f-87d8-0db44f70985e",
   "metadata": {},
   "outputs": [
    {
     "name": "stdout",
     "output_type": "stream",
     "text": [
      "0\n",
      "1\n",
      "2\n",
      "3\n",
      "4\n"
     ]
    }
   ],
   "source": [
    "for c in range(5):\n",
    "    print(c)"
   ]
  },
  {
   "cell_type": "code",
   "execution_count": 4,
   "id": "cd47fc83-f594-44a3-bc8c-dc50d0fa128f",
   "metadata": {},
   "outputs": [
    {
     "name": "stdout",
     "output_type": "stream",
     "text": [
      "1\n",
      "2\n",
      "3\n",
      "4\n"
     ]
    }
   ],
   "source": [
    "for c in range(1,5):\n",
    "    print(c)"
   ]
  },
  {
   "cell_type": "markdown",
   "id": "0a311117-860b-4c48-ac99-5dabce7f1b3e",
   "metadata": {},
   "source": [
    "2. Nested For Loop\n",
    "\n",
    "A nested loop is one that is inside another loop. Furthermore, the initial pass of the outer loop will initiate the inner loop, which will run until completion. Following that, the second pass of the outer loop will reactivate the inner loop."
   ]
  },
  {
   "cell_type": "markdown",
   "id": "295b60a5-3f2d-456f-907c-9013373604ad",
   "metadata": {},
   "source": [
    "Example #1 - Right Triangle"
   ]
  },
  {
   "cell_type": "code",
   "execution_count": 5,
   "id": "0af12ca1-c385-4c80-86f3-3f1b3dd1ad6a",
   "metadata": {},
   "outputs": [
    {
     "name": "stdout",
     "output_type": "stream",
     "text": [
      "* * * \n",
      "* * \n",
      "* \n"
     ]
    }
   ],
   "source": [
    "for row in range(3):\n",
    "    for col in range(3):\n",
    "        if row == 0 and col <=2:\n",
    "            print(\"*\", end = \" \")\n",
    "        elif row == 1 and col <= 1:\n",
    "            print(\"*\", end = \" \")\n",
    "        elif row == 2 and col == 0:\n",
    "            print(\"*\", end = \" \")\n",
    "    print()"
   ]
  },
  {
   "cell_type": "markdown",
   "id": "60f44cb4-4065-4424-a668-77718d8e499a",
   "metadata": {},
   "source": [
    "Example #2 - E"
   ]
  },
  {
   "cell_type": "code",
   "execution_count": 6,
   "id": "b04633dd-8cc4-4ff4-9991-d1f47052ca6a",
   "metadata": {},
   "outputs": [
    {
     "name": "stdout",
     "output_type": "stream",
     "text": [
      "* * \n",
      "* \n",
      "* * \n",
      "* \n",
      "* * \n"
     ]
    }
   ],
   "source": [
    "for row in range(5):\n",
    "    for col in range(2):\n",
    "        if row == 0 and col <=1:\n",
    "            print(\"*\", end = \" \")\n",
    "        elif row == 1 and col == 0:\n",
    "            print(\"*\", end = \" \")\n",
    "        elif row == 2 and col <=1:\n",
    "            print(\"*\", end = \" \")\n",
    "        elif row == 3 and col == 1:\n",
    "            print(\"*\", end = \" \")\n",
    "        elif row == 4 and col <=1:\n",
    "            print(\"*\", end = \" \")        \n",
    "    print()"
   ]
  },
  {
   "cell_type": "markdown",
   "id": "e6ead100-ad55-453a-a889-3ed5cdb65a17",
   "metadata": {},
   "source": [
    "Example #2 - S"
   ]
  },
  {
   "cell_type": "code",
   "execution_count": 7,
   "id": "eeff676e-c726-4347-bccd-3226531d6ecd",
   "metadata": {},
   "outputs": [
    {
     "name": "stdout",
     "output_type": "stream",
     "text": [
      "* * \n",
      "* \n",
      "* * \n",
      "  * \n",
      "* * \n"
     ]
    }
   ],
   "source": [
    "for row in range(5):\n",
    "    for col in range(3):\n",
    "        if row == 0 and col <=1:\n",
    "            print(\"*\", end = \" \")\n",
    "        elif row == 1 and col == 0:\n",
    "            print(\"*\", end = \" \")\n",
    "        elif row == 2 and col <=1:\n",
    "            print(\"*\", end = \" \")\n",
    "        elif row == 3 and col == 1:\n",
    "            print(\"  *\", end = \" \")\n",
    "        elif row == 4 and col <=1:\n",
    "            print(\"*\", end = \" \")        \n",
    "    print()"
   ]
  },
  {
   "cell_type": "markdown",
   "id": "fa104dbf-3e47-4f6e-b570-bb06ed16963a",
   "metadata": {},
   "source": [
    "Example #3 - big right triangle"
   ]
  },
  {
   "cell_type": "code",
   "execution_count": 8,
   "id": "faf3da10-7a42-4f51-8302-eaefcbcb3ee1",
   "metadata": {},
   "outputs": [
    {
     "name": "stdout",
     "output_type": "stream",
     "text": [
      "* * * * * \n",
      "* * * * \n",
      "* * * \n",
      "* * \n",
      "* \n",
      "\n"
     ]
    }
   ],
   "source": [
    "for row in range(6):\n",
    "    for col in range(5):\n",
    "        if row == 0 and col <=4:\n",
    "            print(\"*\", end = \" \")\n",
    "        elif row == 1 and col <=3:\n",
    "            print(\"*\", end = \" \")\n",
    "        elif row == 2 and col <=2:\n",
    "            print(\"*\", end = \" \")\n",
    "        elif row == 3 and col <=1:\n",
    "            print(\"*\", end = \" \")\n",
    "        elif row == 4 and col == 0:\n",
    "            print(\"*\", end = \" \")        \n",
    "    print()"
   ]
  },
  {
   "cell_type": "markdown",
   "id": "f688cdeb-da7d-40a4-a96b-da994644d335",
   "metadata": {},
   "source": [
    "3. Else after For"
   ]
  },
  {
   "cell_type": "markdown",
   "id": "3188c2fa-4d38-40e0-b656-3ab4a0bcd9c9",
   "metadata": {},
   "source": [
    "Example #1"
   ]
  },
  {
   "cell_type": "code",
   "execution_count": 9,
   "id": "3f7ac6e2-4c36-4567-9c04-db327b576716",
   "metadata": {},
   "outputs": [
    {
     "name": "stdout",
     "output_type": "stream",
     "text": [
      "1 is not multiple of thre\n",
      "2 is not multiple of thre\n",
      "3 is multiple of three\n",
      "4 is not multiple of thre\n",
      "5 is not multiple of thre\n",
      "6 is multiple of three\n",
      "7 is not multiple of thre\n",
      "8 is not multiple of thre\n",
      "9 is multiple of three\n"
     ]
    }
   ],
   "source": [
    "for c in range(1,10):\n",
    "    if c % 3 == 0:\n",
    "        print(\"{} is multiple of three\".format(c))\n",
    "    else:\n",
    "        print(\"{} is not multiple of thre\".format(c))"
   ]
  },
  {
   "cell_type": "markdown",
   "id": "f44f706b-61c6-440f-85a1-bfb169901621",
   "metadata": {},
   "source": [
    "4. Break Statement\n",
    "\n",
    "The break statement is used to break or terminate a loop whenever we desire."
   ]
  },
  {
   "cell_type": "markdown",
   "id": "640176cb-ccad-4cf1-9c22-eb5bf378541f",
   "metadata": {},
   "source": [
    "Example #1"
   ]
  },
  {
   "cell_type": "code",
   "execution_count": 10,
   "id": "7c1bf709-69b8-4f99-b52d-96eb01dce687",
   "metadata": {},
   "outputs": [
    {
     "name": "stdout",
     "output_type": "stream",
     "text": [
      "P\n",
      "r\n",
      "i\n",
      "c\n",
      "e\n"
     ]
    }
   ],
   "source": [
    "for b in \"Price List\":\n",
    "    if b == \" \":\n",
    "        break\n",
    "    print(b)"
   ]
  },
  {
   "cell_type": "markdown",
   "id": "c3972f97-2d72-4a32-9e11-ef860e43a4b1",
   "metadata": {},
   "source": [
    "Example #2"
   ]
  },
  {
   "cell_type": "code",
   "execution_count": 11,
   "id": "1a9494cc-4b6a-4d8b-967e-b76fa73eea74",
   "metadata": {},
   "outputs": [
    {
     "name": "stdout",
     "output_type": "stream",
     "text": [
      "P\n",
      "r\n",
      "i\n",
      "c\n",
      "e\n"
     ]
    }
   ],
   "source": [
    "for b in \"Price-List\":\n",
    "    if b == \"-\":\n",
    "        break\n",
    "    print(b)"
   ]
  },
  {
   "cell_type": "markdown",
   "id": "46e216f2-e3c2-4559-9193-f23bf2efc5d9",
   "metadata": {},
   "source": [
    "5. Continue Statement\n",
    "\n",
    "The continue statement skips the remaining statements in the loop and begins the next iteration."
   ]
  },
  {
   "cell_type": "markdown",
   "id": "d25df64f-3a57-4e7d-96d5-dc5fcfbe9cf6",
   "metadata": {},
   "source": [
    "Example #1"
   ]
  },
  {
   "cell_type": "code",
   "execution_count": 12,
   "id": "20193e2a-e42d-410e-af8f-7104a18b2779",
   "metadata": {},
   "outputs": [
    {
     "name": "stdout",
     "output_type": "stream",
     "text": [
      "o\n",
      "l\n",
      "o\n",
      "r\n",
      " \n",
      "s\n",
      "p\n",
      "e\n",
      "t\n",
      "r\n",
      "u\n",
      "m\n"
     ]
    }
   ],
   "source": [
    "for d in \"color spectrum\":\n",
    "    if d == \"c\":\n",
    "        continue\n",
    "    print(d)"
   ]
  }
 ],
 "metadata": {
  "kernelspec": {
   "display_name": "Python 3 (ipykernel)",
   "language": "python",
   "name": "python3"
  },
  "language_info": {
   "codemirror_mode": {
    "name": "ipython",
    "version": 3
   },
   "file_extension": ".py",
   "mimetype": "text/x-python",
   "name": "python",
   "nbconvert_exporter": "python",
   "pygments_lexer": "ipython3",
   "version": "3.11.7"
  }
 },
 "nbformat": 4,
 "nbformat_minor": 5
}
