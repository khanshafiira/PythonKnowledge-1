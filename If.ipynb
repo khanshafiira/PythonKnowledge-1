{
 "cells": [
  {
   "cell_type": "markdown",
   "id": "2b5ce9d7-0155-4c2a-93ae-0fab8eae23fb",
   "metadata": {},
   "source": [
    "IF STATEMENT\n",
    "\n",
    "An if statement is a condition statement that checks a condition and executes it if it is true. It is also a control flow statement, which employs decision-making to regulate the flow of execution."
   ]
  },
  {
   "cell_type": "markdown",
   "id": "57d4180c-a915-421c-8fa2-95ff5f0bb433",
   "metadata": {},
   "source": [
    "Example #1"
   ]
  },
  {
   "cell_type": "code",
   "execution_count": 1,
   "id": "08cd93be-6a9f-4d01-9f43-1cf3a877349c",
   "metadata": {},
   "outputs": [
    {
     "name": "stdout",
     "output_type": "stream",
     "text": [
      "the skies are so blue\n"
     ]
    }
   ],
   "source": [
    "color = \"blue\"\n",
    "\n",
    "if color:\n",
    "    print(\"the skies are so {}\".format(color))"
   ]
  },
  {
   "cell_type": "markdown",
   "id": "522eccec-48a1-4f63-bea9-8a1cdd41fe1a",
   "metadata": {},
   "source": [
    "Example #2"
   ]
  },
  {
   "cell_type": "code",
   "execution_count": 2,
   "id": "b4c7a5f4-0eb2-4245-a724-9a3ab92f1948",
   "metadata": {},
   "outputs": [],
   "source": [
    "quantity = 12"
   ]
  },
  {
   "cell_type": "code",
   "execution_count": 3,
   "id": "02661e72-0281-49a9-8984-ebf1c97afd97",
   "metadata": {},
   "outputs": [
    {
     "name": "stdout",
     "output_type": "stream",
     "text": [
      "I have 12 brothers\n"
     ]
    }
   ],
   "source": [
    "if quantity:\n",
    "    print(\"I have {} brothers\".format(quantity))"
   ]
  }
 ],
 "metadata": {
  "kernelspec": {
   "display_name": "Python 3 (ipykernel)",
   "language": "python",
   "name": "python3"
  },
  "language_info": {
   "codemirror_mode": {
    "name": "ipython",
    "version": 3
   },
   "file_extension": ".py",
   "mimetype": "text/x-python",
   "name": "python",
   "nbconvert_exporter": "python",
   "pygments_lexer": "ipython3",
   "version": "3.11.7"
  }
 },
 "nbformat": 4,
 "nbformat_minor": 5
}
