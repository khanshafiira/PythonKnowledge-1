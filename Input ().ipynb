{
 "cells": [
  {
   "cell_type": "markdown",
   "id": "8dc4c996-dd4c-4641-9e4f-1bc91860fc23",
   "metadata": {},
   "source": [
    "INPUT ()\n",
    "This set of code requests user input and stores it in the message variable. Inputs are automatically saved as strings. As a result, always convert to integers before performing any mathematical operations."
   ]
  },
  {
   "cell_type": "markdown",
   "id": "f2fd7016-5c82-4fca-874f-b73ad3fce807",
   "metadata": {},
   "source": [
    "Example #1"
   ]
  },
  {
   "cell_type": "code",
   "execution_count": 1,
   "id": "b13e9b4f-0350-4a9a-abc7-09dc20f51808",
   "metadata": {},
   "outputs": [
    {
     "name": "stdin",
     "output_type": "stream",
     "text": [
      " be the sun\n"
     ]
    },
    {
     "data": {
      "text/plain": [
       "'be the sun'"
      ]
     },
     "execution_count": 1,
     "metadata": {},
     "output_type": "execute_result"
    }
   ],
   "source": [
    "input()"
   ]
  },
  {
   "cell_type": "markdown",
   "id": "42797908-2081-46a2-830c-fbb0ff1e5071",
   "metadata": {},
   "source": [
    "Example #2"
   ]
  },
  {
   "cell_type": "code",
   "execution_count": 2,
   "id": "051955ed-963b-4a6d-a391-b8a0776463b4",
   "metadata": {},
   "outputs": [
    {
     "name": "stdin",
     "output_type": "stream",
     "text": [
      "today's weather: cloudy\n"
     ]
    }
   ],
   "source": [
    "weather = input(\"today's weather:\")"
   ]
  },
  {
   "cell_type": "code",
   "execution_count": 3,
   "id": "27f54fb0-9d8f-4f23-b021-1a18b8ac3ef1",
   "metadata": {},
   "outputs": [
    {
     "name": "stdout",
     "output_type": "stream",
     "text": [
      "cloudy\n"
     ]
    }
   ],
   "source": [
    "print(weather)"
   ]
  },
  {
   "cell_type": "markdown",
   "id": "47e3d606-1ca9-4d2b-8d4b-32676ba3072b",
   "metadata": {},
   "source": [
    "Example #3"
   ]
  },
  {
   "cell_type": "markdown",
   "id": "67f5bf83-285c-437f-a6a8-9f1c1a27b06f",
   "metadata": {},
   "source": [
    "the result is string"
   ]
  },
  {
   "cell_type": "code",
   "execution_count": 4,
   "id": "d958e5e3-2a51-4481-950b-ee112f28cb03",
   "metadata": {},
   "outputs": [
    {
     "name": "stdin",
     "output_type": "stream",
     "text": [
      "study at: 7\n"
     ]
    }
   ],
   "source": [
    "time = input(\"study at:\")"
   ]
  },
  {
   "cell_type": "code",
   "execution_count": 5,
   "id": "f93c1582-edb2-4447-80dd-6a05d865191d",
   "metadata": {},
   "outputs": [
    {
     "data": {
      "text/plain": [
       "str"
      ]
     },
     "execution_count": 5,
     "metadata": {},
     "output_type": "execute_result"
    }
   ],
   "source": [
    "type(time)"
   ]
  },
  {
   "cell_type": "markdown",
   "id": "24c31c5e-d39f-4b9b-bc27-4e6139ba8ab9",
   "metadata": {},
   "source": [
    "the result is integer (int)"
   ]
  },
  {
   "cell_type": "code",
   "execution_count": 6,
   "id": "9255067b-42aa-49c8-bb39-33662e7edf64",
   "metadata": {},
   "outputs": [
    {
     "name": "stdin",
     "output_type": "stream",
     "text": [
      "study at: 7\n"
     ]
    }
   ],
   "source": [
    "time = int(input(\"study at:\"))"
   ]
  },
  {
   "cell_type": "code",
   "execution_count": 7,
   "id": "f9800ecf-a25f-47bc-a84e-884d0e91cd01",
   "metadata": {},
   "outputs": [
    {
     "data": {
      "text/plain": [
       "int"
      ]
     },
     "execution_count": 7,
     "metadata": {},
     "output_type": "execute_result"
    }
   ],
   "source": [
    "type(time)"
   ]
  }
 ],
 "metadata": {
  "kernelspec": {
   "display_name": "Python 3 (ipykernel)",
   "language": "python",
   "name": "python3"
  },
  "language_info": {
   "codemirror_mode": {
    "name": "ipython",
    "version": 3
   },
   "file_extension": ".py",
   "mimetype": "text/x-python",
   "name": "python",
   "nbconvert_exporter": "python",
   "pygments_lexer": "ipython3",
   "version": "3.11.7"
  }
 },
 "nbformat": 4,
 "nbformat_minor": 5
}
