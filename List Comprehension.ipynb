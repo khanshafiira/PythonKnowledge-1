{
 "cells": [
  {
   "cell_type": "markdown",
   "id": "d7582170-c8c4-4ed0-986d-ff4ee47e2d5f",
   "metadata": {},
   "source": [
    "LIST COMPREHENSION\n",
    "\n",
    "List Comprehension is a way to generate new lists based on previously existing lists or iterables. List comprehension offers a shorter syntax when you want to create a new list based on the values of an existing list."
   ]
  },
  {
   "cell_type": "markdown",
   "id": "a0d7430e-6983-40a2-8ac5-5132d68135be",
   "metadata": {},
   "source": [
    "Example #1"
   ]
  },
  {
   "cell_type": "code",
   "execution_count": 1,
   "id": "190248b8-39cc-4d94-9427-db994e169218",
   "metadata": {},
   "outputs": [],
   "source": [
    "number = [2,3,4]"
   ]
  },
  {
   "cell_type": "code",
   "execution_count": 2,
   "id": "7086e553-e241-4371-82d1-20f907c26e4e",
   "metadata": {},
   "outputs": [],
   "source": [
    "cube = []"
   ]
  },
  {
   "cell_type": "code",
   "execution_count": 3,
   "id": "7a656c5b-3152-47d5-875f-5be0965c46e8",
   "metadata": {},
   "outputs": [
    {
     "name": "stdout",
     "output_type": "stream",
     "text": [
      "[8, 27, 64]\n"
     ]
    }
   ],
   "source": [
    "for e in number:\n",
    "    cube.append(e**3)\n",
    "print(cube)"
   ]
  },
  {
   "cell_type": "markdown",
   "id": "2033b014-2a0a-4f8f-a746-812213fe376c",
   "metadata": {},
   "source": [
    "Example #2"
   ]
  },
  {
   "cell_type": "code",
   "execution_count": 4,
   "id": "9786df8f-0204-4039-b618-9bf7575b2ed4",
   "metadata": {},
   "outputs": [],
   "source": [
    "number = [3,4,5]"
   ]
  },
  {
   "cell_type": "code",
   "execution_count": 5,
   "id": "e267c099-9457-4124-a2cc-2d60b76e0537",
   "metadata": {},
   "outputs": [],
   "source": [
    "cube = [e**3 for e in number]"
   ]
  },
  {
   "cell_type": "code",
   "execution_count": 6,
   "id": "075b51c4-5410-44dc-b92f-3a3a09dee43e",
   "metadata": {},
   "outputs": [
    {
     "name": "stdout",
     "output_type": "stream",
     "text": [
      "[27, 64, 125]\n"
     ]
    }
   ],
   "source": [
    "print(cube)"
   ]
  },
  {
   "cell_type": "markdown",
   "id": "cf04b0b7-2213-40ee-bc64-8f441666f7c8",
   "metadata": {},
   "source": [
    "Duplicate"
   ]
  },
  {
   "cell_type": "markdown",
   "id": "0851c2c5-fe32-4e31-92c3-7cf82b890b97",
   "metadata": {},
   "source": [
    "Example #1"
   ]
  },
  {
   "cell_type": "code",
   "execution_count": 7,
   "id": "79ad5cc0-54f7-417d-85a3-c347b51eb27b",
   "metadata": {},
   "outputs": [
    {
     "name": "stdout",
     "output_type": "stream",
     "text": [
      "['c']\n"
     ]
    }
   ],
   "source": [
    "abc = ['a', 'b', 'c']\n",
    "cde = ['c', 'd', 'e']\n",
    "\n",
    "duplicate = []\n",
    "for i in abc:\n",
    "    for j in cde:\n",
    "        if i == j:\n",
    "            duplicate.append(i)\n",
    "\n",
    "print(duplicate)"
   ]
  },
  {
   "cell_type": "markdown",
   "id": "68b82daf-e7a5-4161-861a-cc3ea4841fa5",
   "metadata": {},
   "source": [
    "Example #2"
   ]
  },
  {
   "cell_type": "code",
   "execution_count": 8,
   "id": "f557690f-1748-4c2b-9672-3ccb13e3498c",
   "metadata": {},
   "outputs": [
    {
     "name": "stdout",
     "output_type": "stream",
     "text": [
      "['DATA', 'ANALYST']\n"
     ]
    }
   ],
   "source": [
    "data = [\"data\", \"analyst\"]\n",
    "\n",
    "upper = [_.upper() for _ in data]\n",
    "\n",
    "print(upper)"
   ]
  }
 ],
 "metadata": {
  "kernelspec": {
   "display_name": "Python 3 (ipykernel)",
   "language": "python",
   "name": "python3"
  },
  "language_info": {
   "codemirror_mode": {
    "name": "ipython",
    "version": 3
   },
   "file_extension": ".py",
   "mimetype": "text/x-python",
   "name": "python",
   "nbconvert_exporter": "python",
   "pygments_lexer": "ipython3",
   "version": "3.11.7"
  }
 },
 "nbformat": 4,
 "nbformat_minor": 5
}
