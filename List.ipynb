{
 "cells": [
  {
   "cell_type": "markdown",
   "id": "0c9375ff-61dd-4abb-b0fa-aebf21d97bac",
   "metadata": {},
   "source": [
    "LIST\n",
    "\n",
    "A list is a collection of objects. The entries in a list are enclosed in brackets [ ] and separated by commas."
   ]
  },
  {
   "cell_type": "markdown",
   "id": "aa903559-cb4f-462c-b5a2-317e6d2a77b5",
   "metadata": {},
   "source": [
    "1. Random input with different numbers on list"
   ]
  },
  {
   "cell_type": "code",
   "execution_count": 1,
   "id": "38ad887c-a579-4633-aa32-56286eb40869",
   "metadata": {},
   "outputs": [],
   "source": [
    "a = [13, 2.2, \"five\"]"
   ]
  },
  {
   "cell_type": "code",
   "execution_count": 2,
   "id": "ac3bb8ec-c113-42da-81b6-c9512887b84b",
   "metadata": {},
   "outputs": [
    {
     "name": "stdout",
     "output_type": "stream",
     "text": [
      "[13, 2.2, 'five']\n"
     ]
    }
   ],
   "source": [
    "print(a)"
   ]
  },
  {
   "cell_type": "markdown",
   "id": "75080ba9-134c-40c5-a4c5-6fd533eae6b6",
   "metadata": {},
   "source": [
    "2. Change the the third list \"five\" into \"high five\""
   ]
  },
  {
   "cell_type": "raw",
   "id": "c6c649bf-b2ae-4f70-a6e3-fd14095125b5",
   "metadata": {},
   "source": [
    "#notes: Indexing in Python starts at 0, which means that the first element in a sequence has an index of 0, the second element has an index of 1, and so on."
   ]
  },
  {
   "cell_type": "code",
   "execution_count": 3,
   "id": "6d71ead8-87dd-4349-8659-c726c0274733",
   "metadata": {},
   "outputs": [],
   "source": [
    "a[2]=\"high five\""
   ]
  },
  {
   "cell_type": "code",
   "execution_count": 4,
   "id": "c4f9cd1d-5aaf-4449-a0a2-3bb821b1e222",
   "metadata": {},
   "outputs": [
    {
     "name": "stdout",
     "output_type": "stream",
     "text": [
      "[13, 2.2, 'high five']\n"
     ]
    }
   ],
   "source": [
    "print(a)"
   ]
  },
  {
   "cell_type": "markdown",
   "id": "affa55fa-b6ca-48b7-9afb-52b00fe84f49",
   "metadata": {},
   "source": [
    "3. Check the characters at a certain index with Print"
   ]
  },
  {
   "cell_type": "code",
   "execution_count": 5,
   "id": "00d03d25-6fd9-4af4-8205-c9b9f9627451",
   "metadata": {},
   "outputs": [
    {
     "name": "stdout",
     "output_type": "stream",
     "text": [
      "[13, 2.2]\n"
     ]
    }
   ],
   "source": [
    "print(a[0:2])"
   ]
  },
  {
   "cell_type": "markdown",
   "id": "d2ebc02a-1136-40f6-b837-55c841b5b34b",
   "metadata": {},
   "source": [
    "Slicing"
   ]
  },
  {
   "cell_type": "markdown",
   "id": "45c6d0aa-ba5b-4a18-ae7a-17a839aff970",
   "metadata": {},
   "source": [
    "1. Check the number and the type of first element on the list"
   ]
  },
  {
   "cell_type": "code",
   "execution_count": 6,
   "id": "d52e7e27-049c-400e-95b7-2a2e215b44d6",
   "metadata": {},
   "outputs": [
    {
     "data": {
      "text/plain": [
       "13"
      ]
     },
     "execution_count": 6,
     "metadata": {},
     "output_type": "execute_result"
    }
   ],
   "source": [
    "a[0]"
   ]
  },
  {
   "cell_type": "code",
   "execution_count": 7,
   "id": "8abbce13-1a2d-4a13-87d2-1caa59af2eea",
   "metadata": {},
   "outputs": [
    {
     "data": {
      "text/plain": [
       "int"
      ]
     },
     "execution_count": 7,
     "metadata": {},
     "output_type": "execute_result"
    }
   ],
   "source": [
    "type(a[0])"
   ]
  },
  {
   "cell_type": "markdown",
   "id": "37492dca-8277-4fa5-8cb5-abc37b43fe00",
   "metadata": {},
   "source": [
    "2. Check the number and the type of second element on the list"
   ]
  },
  {
   "cell_type": "code",
   "execution_count": 8,
   "id": "2d1991fb-6e6b-417a-8207-9b3cab0f68a7",
   "metadata": {},
   "outputs": [
    {
     "data": {
      "text/plain": [
       "2.2"
      ]
     },
     "execution_count": 8,
     "metadata": {},
     "output_type": "execute_result"
    }
   ],
   "source": [
    "a[1]"
   ]
  },
  {
   "cell_type": "code",
   "execution_count": 9,
   "id": "50156e0f-5c9a-4cc2-a055-83c36266d686",
   "metadata": {},
   "outputs": [
    {
     "data": {
      "text/plain": [
       "float"
      ]
     },
     "execution_count": 9,
     "metadata": {},
     "output_type": "execute_result"
    }
   ],
   "source": [
    "type(a[1])"
   ]
  },
  {
   "cell_type": "markdown",
   "id": "8d5c876a-9426-4e7b-8a18-212826661bce",
   "metadata": {},
   "source": [
    "3. Check the number and the type of third element on the list"
   ]
  },
  {
   "cell_type": "code",
   "execution_count": 10,
   "id": "bad3cbcd-33ce-4850-bbaa-f25cd29e0f4c",
   "metadata": {},
   "outputs": [
    {
     "data": {
      "text/plain": [
       "'high five'"
      ]
     },
     "execution_count": 10,
     "metadata": {},
     "output_type": "execute_result"
    }
   ],
   "source": [
    "a[2]"
   ]
  },
  {
   "cell_type": "code",
   "execution_count": 11,
   "id": "2df364e5-7ef0-45a3-a653-37453b3bf840",
   "metadata": {},
   "outputs": [
    {
     "data": {
      "text/plain": [
       "str"
      ]
     },
     "execution_count": 11,
     "metadata": {},
     "output_type": "execute_result"
    }
   ],
   "source": [
    "type(a[2])"
   ]
  }
 ],
 "metadata": {
  "kernelspec": {
   "display_name": "Python 3 (ipykernel)",
   "language": "python",
   "name": "python3"
  },
  "language_info": {
   "codemirror_mode": {
    "name": "ipython",
    "version": 3
   },
   "file_extension": ".py",
   "mimetype": "text/x-python",
   "name": "python",
   "nbconvert_exporter": "python",
   "pygments_lexer": "ipython3",
   "version": "3.11.7"
  }
 },
 "nbformat": 4,
 "nbformat_minor": 5
}
