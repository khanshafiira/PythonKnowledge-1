{
 "cells": [
  {
   "cell_type": "markdown",
   "id": "94ac71de-974b-41a4-9ebe-41285e7e20ca",
   "metadata": {},
   "source": [
    "1. Integer Number\n",
    "\n",
    "Integers do not have decimals and can be any length as long as the necessary memory is available.\n"
   ]
  },
  {
   "cell_type": "code",
   "execution_count": 1,
   "id": "45415092-8fcd-4323-a29f-d401e3b2e750",
   "metadata": {},
   "outputs": [],
   "source": [
    "a = 13"
   ]
  },
  {
   "cell_type": "code",
   "execution_count": 2,
   "id": "d4c511e2-23ff-40f6-931b-7a73eb3220d4",
   "metadata": {},
   "outputs": [
    {
     "data": {
      "text/plain": [
       "int"
      ]
     },
     "execution_count": 2,
     "metadata": {},
     "output_type": "execute_result"
    }
   ],
   "source": [
    "type(a)"
   ]
  },
  {
   "cell_type": "markdown",
   "id": "24360baa-4a5e-4015-b7eb-e3589ac13baa",
   "metadata": {},
   "source": [
    "2. Float\n",
    "\n",
    "Floating point numbers are those that contain decimals."
   ]
  },
  {
   "cell_type": "code",
   "execution_count": 3,
   "id": "8a8f221c-5882-4215-bc76-c2a1341d5d02",
   "metadata": {},
   "outputs": [],
   "source": [
    "b = 8.95"
   ]
  },
  {
   "cell_type": "code",
   "execution_count": 4,
   "id": "15fb7914-cb55-4412-8058-24b38c1c7af4",
   "metadata": {},
   "outputs": [
    {
     "data": {
      "text/plain": [
       "float"
      ]
     },
     "execution_count": 4,
     "metadata": {},
     "output_type": "execute_result"
    }
   ],
   "source": [
    "type(b)"
   ]
  },
  {
   "cell_type": "markdown",
   "id": "0e2f3019-9ffe-47e2-80dc-35b90d7ead23",
   "metadata": {},
   "source": [
    "3. Complex\n",
    "\n",
    "Complex numbers (as in mathematics) take the form a + bj"
   ]
  },
  {
   "cell_type": "code",
   "execution_count": 5,
   "id": "8897ed6b-5305-4f2b-98c2-0213671af840",
   "metadata": {},
   "outputs": [],
   "source": [
    "c = 1-5j"
   ]
  },
  {
   "cell_type": "code",
   "execution_count": 6,
   "id": "171392f7-544c-4550-b850-78b6f2e56f78",
   "metadata": {},
   "outputs": [
    {
     "data": {
      "text/plain": [
       "complex"
      ]
     },
     "execution_count": 6,
     "metadata": {},
     "output_type": "execute_result"
    }
   ],
   "source": [
    "type(c)"
   ]
  }
 ],
 "metadata": {
  "kernelspec": {
   "display_name": "Python 3 (ipykernel)",
   "language": "python",
   "name": "python3"
  },
  "language_info": {
   "codemirror_mode": {
    "name": "ipython",
    "version": 3
   },
   "file_extension": ".py",
   "mimetype": "text/x-python",
   "name": "python",
   "nbconvert_exporter": "python",
   "pygments_lexer": "ipython3",
   "version": "3.11.7"
  }
 },
 "nbformat": 4,
 "nbformat_minor": 5
}
