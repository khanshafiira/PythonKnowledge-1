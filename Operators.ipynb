{
 "cells": [
  {
   "cell_type": "markdown",
   "id": "bff252dd-acd0-4ccd-8789-0cbee263153c",
   "metadata": {},
   "source": [
    "OPERATORS\n",
    "\n",
    "Operators in Python are symbols that represent specific actions or operations on values and variables in a program, such as addition, multiplication, or comparison."
   ]
  },
  {
   "cell_type": "markdown",
   "id": "49f1ca22-7084-4de9-9fc8-b3ecde87c267",
   "metadata": {},
   "source": [
    "1. Arithmetic Operators"
   ]
  },
  {
   "cell_type": "markdown",
   "id": "29141991-ec0c-4eba-9f28-b410e27262cb",
   "metadata": {},
   "source": [
    "summation"
   ]
  },
  {
   "cell_type": "code",
   "execution_count": 1,
   "id": "193f3042-0f6a-45e6-a3ca-a0873416f35f",
   "metadata": {},
   "outputs": [
    {
     "data": {
      "text/plain": [
       "3"
      ]
     },
     "execution_count": 1,
     "metadata": {},
     "output_type": "execute_result"
    }
   ],
   "source": [
    "2+1"
   ]
  },
  {
   "cell_type": "markdown",
   "id": "6481f4da-ee7e-4857-9cac-7812df63eb3e",
   "metadata": {},
   "source": [
    "summation with data string"
   ]
  },
  {
   "cell_type": "code",
   "execution_count": 2,
   "id": "25f67533-4a31-4d30-9ddf-920fe3835f8e",
   "metadata": {},
   "outputs": [
    {
     "data": {
      "text/plain": [
       "'heart'"
      ]
     },
     "execution_count": 2,
     "metadata": {},
     "output_type": "execute_result"
    }
   ],
   "source": [
    "'he' + 'art'"
   ]
  },
  {
   "cell_type": "markdown",
   "id": "42d0288d-d521-4f4d-9ad6-5ce21c27a97b",
   "metadata": {},
   "source": [
    "subtraction"
   ]
  },
  {
   "cell_type": "code",
   "execution_count": 3,
   "id": "72323cf1-4637-463e-adb6-1d83ed981f79",
   "metadata": {},
   "outputs": [
    {
     "data": {
      "text/plain": [
       "4"
      ]
     },
     "execution_count": 3,
     "metadata": {},
     "output_type": "execute_result"
    }
   ],
   "source": [
    "7-3"
   ]
  },
  {
   "cell_type": "markdown",
   "id": "3fe7af52-f929-46cf-be49-20fd2790976f",
   "metadata": {},
   "source": [
    "multiplication"
   ]
  },
  {
   "cell_type": "code",
   "execution_count": 4,
   "id": "47eb990e-264e-4761-a54f-0dd9239a0c77",
   "metadata": {},
   "outputs": [
    {
     "data": {
      "text/plain": [
       "15"
      ]
     },
     "execution_count": 4,
     "metadata": {},
     "output_type": "execute_result"
    }
   ],
   "source": [
    "3*5"
   ]
  },
  {
   "cell_type": "markdown",
   "id": "5156c593-cf17-49fa-bad1-3809bb9e63ba",
   "metadata": {},
   "source": [
    "multiplication with data string"
   ]
  },
  {
   "cell_type": "code",
   "execution_count": 5,
   "id": "dac98a63-499b-44f4-b1e6-1cf84dae5b86",
   "metadata": {},
   "outputs": [
    {
     "data": {
      "text/plain": [
       "'chachacha'"
      ]
     },
     "execution_count": 5,
     "metadata": {},
     "output_type": "execute_result"
    }
   ],
   "source": [
    "\"cha\"*3"
   ]
  },
  {
   "cell_type": "code",
   "execution_count": 6,
   "id": "c5d22acf-891c-4a01-864c-68a64987372a",
   "metadata": {},
   "outputs": [
    {
     "data": {
      "text/plain": [
       "'hometown cha cha cha'"
      ]
     },
     "execution_count": 6,
     "metadata": {},
     "output_type": "execute_result"
    }
   ],
   "source": [
    "'home' + 'town' + (\" cha\"*3)"
   ]
  },
  {
   "cell_type": "markdown",
   "id": "ee66b377-d2e5-47cb-9604-d274455368d8",
   "metadata": {},
   "source": [
    "powers of numbers"
   ]
  },
  {
   "cell_type": "code",
   "execution_count": 7,
   "id": "1a80b015-5bfd-422b-8b3b-74f281abb0e2",
   "metadata": {},
   "outputs": [
    {
     "data": {
      "text/plain": [
       "243"
      ]
     },
     "execution_count": 7,
     "metadata": {},
     "output_type": "execute_result"
    }
   ],
   "source": [
    "3**5"
   ]
  },
  {
   "cell_type": "markdown",
   "id": "f4dc6218-5924-43c9-a1ed-291539051911",
   "metadata": {},
   "source": [
    "squared root of"
   ]
  },
  {
   "cell_type": "code",
   "execution_count": 8,
   "id": "68af92fc-7438-4706-bec0-f3cc2636e1ea",
   "metadata": {},
   "outputs": [
    {
     "data": {
      "text/plain": [
       "7.0"
      ]
     },
     "execution_count": 8,
     "metadata": {},
     "output_type": "execute_result"
    }
   ],
   "source": [
    "49**0.5"
   ]
  },
  {
   "cell_type": "markdown",
   "id": "969dc060-85e7-43d2-8056-7a96e8f903e3",
   "metadata": {},
   "source": [
    "division (quotient of dividing the left operand by the right)"
   ]
  },
  {
   "cell_type": "code",
   "execution_count": 9,
   "id": "6334c419-6c1e-43fe-961d-f49c6dbe67e3",
   "metadata": {},
   "outputs": [
    {
     "data": {
      "text/plain": [
       "3"
      ]
     },
     "execution_count": 9,
     "metadata": {},
     "output_type": "execute_result"
    }
   ],
   "source": [
    "10//3"
   ]
  },
  {
   "cell_type": "markdown",
   "id": "bc613d14-a8ae-4ccd-94ca-b707f8f0cc95",
   "metadata": {},
   "source": [
    "modulo (the remainder after dividing the left operand by the right operand)"
   ]
  },
  {
   "cell_type": "code",
   "execution_count": 10,
   "id": "07083861-6151-443e-a806-1e6f111fef2b",
   "metadata": {},
   "outputs": [
    {
     "data": {
      "text/plain": [
       "1"
      ]
     },
     "execution_count": 10,
     "metadata": {},
     "output_type": "execute_result"
    }
   ],
   "source": [
    "10%3"
   ]
  },
  {
   "cell_type": "markdown",
   "id": "bfea159f-1dd5-4098-ae41-af6eaae978c4",
   "metadata": {},
   "source": [
    "division (quotient of dividing the left operand by the right operand; standard on math)"
   ]
  },
  {
   "cell_type": "code",
   "execution_count": 11,
   "id": "197a4117-6380-468a-8216-5a021092a38d",
   "metadata": {},
   "outputs": [
    {
     "data": {
      "text/plain": [
       "3.3333333333333335"
      ]
     },
     "execution_count": 11,
     "metadata": {},
     "output_type": "execute_result"
    }
   ],
   "source": [
    "10/3"
   ]
  },
  {
   "cell_type": "markdown",
   "id": "4c53c7b6-6a89-4eaa-b65a-d80d60990550",
   "metadata": {},
   "source": [
    "2. Relational Operators"
   ]
  },
  {
   "cell_type": "markdown",
   "id": "e60b24ea-4ea3-4dbb-99c8-21978e1ef441",
   "metadata": {},
   "source": [
    "equal to"
   ]
  },
  {
   "cell_type": "code",
   "execution_count": 12,
   "id": "fb0ca6a1-eed9-47b1-b403-ae222aa9c0df",
   "metadata": {},
   "outputs": [
    {
     "data": {
      "text/plain": [
       "True"
      ]
     },
     "execution_count": 12,
     "metadata": {},
     "output_type": "execute_result"
    }
   ],
   "source": [
    "5 == 5"
   ]
  },
  {
   "cell_type": "markdown",
   "id": "8a4ad823-cc7e-4502-86c9-00f309de15a0",
   "metadata": {},
   "source": [
    "not equal to"
   ]
  },
  {
   "cell_type": "code",
   "execution_count": 13,
   "id": "dd355eeb-1e1a-44d1-b96a-729c59c2e26c",
   "metadata": {},
   "outputs": [
    {
     "data": {
      "text/plain": [
       "False"
      ]
     },
     "execution_count": 13,
     "metadata": {},
     "output_type": "execute_result"
    }
   ],
   "source": [
    "8 != 8"
   ]
  },
  {
   "cell_type": "markdown",
   "id": "fbca00d7-8f8a-408d-bb93-28b902d07e06",
   "metadata": {},
   "source": [
    "less than"
   ]
  },
  {
   "cell_type": "code",
   "execution_count": 14,
   "id": "e469ada4-482d-47c0-a6dd-8d1987298a43",
   "metadata": {},
   "outputs": [
    {
     "data": {
      "text/plain": [
       "False"
      ]
     },
     "execution_count": 14,
     "metadata": {},
     "output_type": "execute_result"
    }
   ],
   "source": [
    "7 < 6"
   ]
  },
  {
   "cell_type": "markdown",
   "id": "43063b6c-e229-4599-883a-a6983c95dced",
   "metadata": {},
   "source": [
    "less than or equal to"
   ]
  },
  {
   "cell_type": "code",
   "execution_count": 15,
   "id": "9bbc87e6-7394-4a31-94cb-ddcc381b2946",
   "metadata": {},
   "outputs": [
    {
     "data": {
      "text/plain": [
       "True"
      ]
     },
     "execution_count": 15,
     "metadata": {},
     "output_type": "execute_result"
    }
   ],
   "source": [
    "1 <= 3"
   ]
  },
  {
   "cell_type": "markdown",
   "id": "2fbdd629-ecf2-4851-81be-d8e694de2959",
   "metadata": {},
   "source": [
    "greater than"
   ]
  },
  {
   "cell_type": "code",
   "execution_count": 16,
   "id": "63c2371f-b399-4e04-9593-1b8b1a3b6bba",
   "metadata": {},
   "outputs": [
    {
     "data": {
      "text/plain": [
       "True"
      ]
     },
     "execution_count": 16,
     "metadata": {},
     "output_type": "execute_result"
    }
   ],
   "source": [
    "13 > 10"
   ]
  },
  {
   "cell_type": "markdown",
   "id": "30a72c40-7f6a-4921-b314-190d5c318939",
   "metadata": {},
   "source": [
    "greater than or equal to"
   ]
  },
  {
   "cell_type": "code",
   "execution_count": 17,
   "id": "16d0978e-70a9-4db4-b276-cace8c8780bb",
   "metadata": {},
   "outputs": [
    {
     "data": {
      "text/plain": [
       "False"
      ]
     },
     "execution_count": 17,
     "metadata": {},
     "output_type": "execute_result"
    }
   ],
   "source": [
    "5 >= 7"
   ]
  }
 ],
 "metadata": {
  "kernelspec": {
   "display_name": "Python 3 (ipykernel)",
   "language": "python",
   "name": "python3"
  },
  "language_info": {
   "codemirror_mode": {
    "name": "ipython",
    "version": 3
   },
   "file_extension": ".py",
   "mimetype": "text/x-python",
   "name": "python",
   "nbconvert_exporter": "python",
   "pygments_lexer": "ipython3",
   "version": "3.11.7"
  }
 },
 "nbformat": 4,
 "nbformat_minor": 5
}
