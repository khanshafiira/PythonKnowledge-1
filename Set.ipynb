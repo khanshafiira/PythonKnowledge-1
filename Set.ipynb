{
 "cells": [
  {
   "cell_type": "markdown",
   "id": "194e54a1-e4f1-49fc-9ee3-4790c77a682f",
   "metadata": {},
   "source": [
    "SET\n",
    "\n",
    "A set is an unordered collection of unique, immutable things. We can also execute mathematical operations on sets, such as union and intersection. The items in a set are enclosed in braces { } and separated by commas."
   ]
  },
  {
   "cell_type": "markdown",
   "id": "7c3c553a-c4a9-43c6-825b-3c3bfb96b8dc",
   "metadata": {},
   "source": [
    "Random input with different numbers"
   ]
  },
  {
   "cell_type": "code",
   "execution_count": 1,
   "id": "9fa144f9-7b7e-4925-90d0-55fc0b85a656",
   "metadata": {},
   "outputs": [],
   "source": [
    "a = {2,7,3,7,9,1,6,2,13,7,9,7,7,7,6} "
   ]
  },
  {
   "cell_type": "code",
   "execution_count": 2,
   "id": "df29240b-524e-479a-a170-aa07abbbe0ae",
   "metadata": {},
   "outputs": [
    {
     "name": "stdout",
     "output_type": "stream",
     "text": [
      "{1, 2, 3, 6, 7, 9, 13}\n"
     ]
    }
   ],
   "source": [
    "print(a)"
   ]
  },
  {
   "cell_type": "markdown",
   "id": "e01fd3e5-de2d-4a95-aa0f-9269c62bdcdf",
   "metadata": {},
   "source": [
    "A set can not be slicing because it is an unordered collection of unique"
   ]
  },
  {
   "cell_type": "code",
   "execution_count": 3,
   "id": "bb90b2ee-bae8-4832-b3d4-68bca117143c",
   "metadata": {},
   "outputs": [
    {
     "ename": "TypeError",
     "evalue": "'set' object is not subscriptable",
     "output_type": "error",
     "traceback": [
      "\u001b[1;31m---------------------------------------------------------------------------\u001b[0m",
      "\u001b[1;31mTypeError\u001b[0m                                 Traceback (most recent call last)",
      "Cell \u001b[1;32mIn[3], line 1\u001b[0m\n\u001b[1;32m----> 1\u001b[0m \u001b[38;5;28mprint\u001b[39m(a[\u001b[38;5;241m1\u001b[39m])\n",
      "\u001b[1;31mTypeError\u001b[0m: 'set' object is not subscriptable"
     ]
    }
   ],
   "source": [
    "print(a[1])"
   ]
  },
  {
   "cell_type": "markdown",
   "id": "e3f52198-f635-4ee3-84e5-4f9621dd98ea",
   "metadata": {},
   "source": [
    "The items in a set cannot be replicated or modified once they have been formed."
   ]
  },
  {
   "cell_type": "code",
   "execution_count": 4,
   "id": "66388944-b174-4062-80f4-b479dd7e06b4",
   "metadata": {},
   "outputs": [
    {
     "ename": "TypeError",
     "evalue": "'set' object does not support item assignment",
     "output_type": "error",
     "traceback": [
      "\u001b[1;31m---------------------------------------------------------------------------\u001b[0m",
      "\u001b[1;31mTypeError\u001b[0m                                 Traceback (most recent call last)",
      "Cell \u001b[1;32mIn[4], line 1\u001b[0m\n\u001b[1;32m----> 1\u001b[0m a[\u001b[38;5;241m0\u001b[39m]\u001b[38;5;241m=\u001b[39m\u001b[38;5;241m9\u001b[39m\n",
      "\u001b[1;31mTypeError\u001b[0m: 'set' object does not support item assignment"
     ]
    }
   ],
   "source": [
    "a[0]=9"
   ]
  },
  {
   "cell_type": "markdown",
   "id": "a49fc7d7-eb5c-487b-81fb-04e205a2bfc1",
   "metadata": {},
   "source": [
    "Union\n",
    "\n",
    "the set that contains all the elements of both sets"
   ]
  },
  {
   "cell_type": "code",
   "execution_count": 5,
   "id": "9de977f2-23c8-4f21-b219-ad2694d7a986",
   "metadata": {},
   "outputs": [],
   "source": [
    "b = {2,7,3,7,9}"
   ]
  },
  {
   "cell_type": "code",
   "execution_count": 6,
   "id": "4cd05750-36b6-4848-ab4f-ff1f24a199e3",
   "metadata": {},
   "outputs": [
    {
     "name": "stdout",
     "output_type": "stream",
     "text": [
      "{9, 2, 3, 7}\n"
     ]
    }
   ],
   "source": [
    "print(b)"
   ]
  },
  {
   "cell_type": "code",
   "execution_count": 7,
   "id": "267a5786-a046-4b70-a857-1c6cf139d71e",
   "metadata": {},
   "outputs": [],
   "source": [
    "c = {9,6,2,13,7}"
   ]
  },
  {
   "cell_type": "code",
   "execution_count": 8,
   "id": "1f23a775-c717-49fc-b1a1-e2acb01e6f92",
   "metadata": {},
   "outputs": [
    {
     "name": "stdout",
     "output_type": "stream",
     "text": [
      "{2, 6, 7, 9, 13}\n"
     ]
    }
   ],
   "source": [
    "print(c)"
   ]
  },
  {
   "cell_type": "code",
   "execution_count": 9,
   "id": "7ae0b55c-da65-4b2e-8daf-6f3cf35a8d5e",
   "metadata": {},
   "outputs": [
    {
     "data": {
      "text/plain": [
       "{2, 3, 6, 7, 9, 13}"
      ]
     },
     "execution_count": 9,
     "metadata": {},
     "output_type": "execute_result"
    }
   ],
   "source": [
    "b. union(c)"
   ]
  },
  {
   "cell_type": "markdown",
   "id": "c4d6af97-5ea5-4a61-8e09-081b4085e8e5",
   "metadata": {},
   "source": [
    "Intersection\n",
    "\n",
    "returns a set that contains the similarity between two or more sets"
   ]
  },
  {
   "cell_type": "code",
   "execution_count": 10,
   "id": "b78ec4ec-baa2-411e-addb-3db5887bfc24",
   "metadata": {},
   "outputs": [
    {
     "data": {
      "text/plain": [
       "{2, 7, 9}"
      ]
     },
     "execution_count": 10,
     "metadata": {},
     "output_type": "execute_result"
    }
   ],
   "source": [
    "b. intersection(c)"
   ]
  }
 ],
 "metadata": {
  "kernelspec": {
   "display_name": "Python 3 (ipykernel)",
   "language": "python",
   "name": "python3"
  },
  "language_info": {
   "codemirror_mode": {
    "name": "ipython",
    "version": 3
   },
   "file_extension": ".py",
   "mimetype": "text/x-python",
   "name": "python",
   "nbconvert_exporter": "python",
   "pygments_lexer": "ipython3",
   "version": "3.11.7"
  }
 },
 "nbformat": 4,
 "nbformat_minor": 5
}
