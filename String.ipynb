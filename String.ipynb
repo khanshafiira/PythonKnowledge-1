{
 "cells": [
  {
   "cell_type": "markdown",
   "id": "461abcb9-d316-4a73-b8e5-422db582b3f3",
   "metadata": {},
   "source": [
    "String\n",
    "\n",
    "A string is a group of characters separated by '' or \" \""
   ]
  },
  {
   "cell_type": "code",
   "execution_count": 1,
   "id": "65c25b4e-bbf9-41fe-9351-e84449a55417",
   "metadata": {},
   "outputs": [],
   "source": [
    "a = \"It is monday\""
   ]
  },
  {
   "cell_type": "code",
   "execution_count": 2,
   "id": "87ccf860-3332-4387-a55b-ba79e08c5d10",
   "metadata": {},
   "outputs": [
    {
     "name": "stdout",
     "output_type": "stream",
     "text": [
      "It is monday\n"
     ]
    }
   ],
   "source": [
    "print(a)"
   ]
  },
  {
   "cell_type": "code",
   "execution_count": 3,
   "id": "0a8bf324-bbbe-489a-9816-cd1c979ca335",
   "metadata": {},
   "outputs": [],
   "source": [
    "b = \"\"\"It is monday.\n",
    "1 April 2024.\n",
    "We are studying Data Analyst.\"\"\""
   ]
  },
  {
   "cell_type": "code",
   "execution_count": 4,
   "id": "e453b48c-f0d0-46e3-aaab-0671b60ba27b",
   "metadata": {},
   "outputs": [
    {
     "name": "stdout",
     "output_type": "stream",
     "text": [
      "It is monday.\n",
      "1 April 2024.\n",
      "We are studying Data Analyst.\n"
     ]
    }
   ],
   "source": [
    "print(b)"
   ]
  },
  {
   "cell_type": "code",
   "execution_count": 5,
   "id": "d003aeeb-2e32-4d8f-9b47-6ea49336bb3e",
   "metadata": {},
   "outputs": [],
   "source": [
    "c = \"It's monday!\""
   ]
  },
  {
   "cell_type": "code",
   "execution_count": 6,
   "id": "fdd58608-a2da-4a22-8799-93a79d4f6aac",
   "metadata": {},
   "outputs": [
    {
     "name": "stdout",
     "output_type": "stream",
     "text": [
      "It's monday!\n"
     ]
    }
   ],
   "source": [
    "print(c)"
   ]
  },
  {
   "cell_type": "markdown",
   "id": "e9189bbc-3791-4037-b000-fcd55380a73e",
   "metadata": {},
   "source": [
    "PRINT ()\n",
    "The print() function sends the provided message to the screen or a standard output device. The message can be a string or any other object; the object will be converted to a string before being printed to the screen. "
   ]
  },
  {
   "cell_type": "markdown",
   "id": "7c331b68-cfed-4635-b43b-0f1f320c5fbf",
   "metadata": {},
   "source": [
    "To print a string and a variable in Python, we can use the print() function. there are several methods as follows:"
   ]
  },
  {
   "cell_type": "markdown",
   "id": "7e873104-c069-4fc0-9441-b36afc4e2fa3",
   "metadata": {},
   "source": [
    "1. Concatenate variables in the Print() statement: separating each with comma"
   ]
  },
  {
   "cell_type": "markdown",
   "id": "0ef19e36-b304-4dc8-9b76-ab756cc032ab",
   "metadata": {},
   "source": [
    "Example #1"
   ]
  },
  {
   "cell_type": "code",
   "execution_count": 7,
   "id": "5c33ae38-a9f7-46cd-9a78-cc2a2b932bcd",
   "metadata": {},
   "outputs": [],
   "source": [
    "a = 2"
   ]
  },
  {
   "cell_type": "code",
   "execution_count": 8,
   "id": "aba75740-0402-4d42-8c30-579265027361",
   "metadata": {},
   "outputs": [
    {
     "name": "stdout",
     "output_type": "stream",
     "text": [
      "the eyes are 2\n"
     ]
    }
   ],
   "source": [
    "print(\"the eyes are\", a)"
   ]
  },
  {
   "cell_type": "markdown",
   "id": "a2369dfd-7db4-4a1e-b116-5a6ae3b7cc60",
   "metadata": {},
   "source": [
    "Example #2"
   ]
  },
  {
   "cell_type": "code",
   "execution_count": 9,
   "id": "d54d55cd-9ea0-49a4-98ee-3d77368983a7",
   "metadata": {},
   "outputs": [],
   "source": [
    "cake = 'Red Velvet'"
   ]
  },
  {
   "cell_type": "code",
   "execution_count": 10,
   "id": "aa1fcb52-9060-427c-b8f0-24a282ec386e",
   "metadata": {},
   "outputs": [
    {
     "name": "stdout",
     "output_type": "stream",
     "text": [
      "I like Red Velvet\n"
     ]
    }
   ],
   "source": [
    "print(\"I like\", cake)"
   ]
  },
  {
   "cell_type": "markdown",
   "id": "4f23b0be-617f-4ece-b505-c31b8f167e4f",
   "metadata": {},
   "source": [
    "2. String Format"
   ]
  },
  {
   "cell_type": "markdown",
   "id": "eb619141-dae3-42f4-a636-02334127383f",
   "metadata": {},
   "source": [
    "Example #1"
   ]
  },
  {
   "cell_type": "code",
   "execution_count": 11,
   "id": "91787281-c5d9-4006-a9cc-5dcd6748d1ed",
   "metadata": {},
   "outputs": [
    {
     "name": "stdout",
     "output_type": "stream",
     "text": [
      "the skies are so blue\n"
     ]
    }
   ],
   "source": [
    "print('the skies are so {}'.format('blue'))"
   ]
  },
  {
   "cell_type": "markdown",
   "id": "be0121e1-0ef1-451a-96ff-63337e6686a8",
   "metadata": {},
   "source": [
    "Example #2"
   ]
  },
  {
   "cell_type": "code",
   "execution_count": 12,
   "id": "4fca82ed-dfbb-4c71-ab94-f025956b897a",
   "metadata": {},
   "outputs": [],
   "source": [
    "a = 2"
   ]
  },
  {
   "cell_type": "code",
   "execution_count": 13,
   "id": "a4763eb1-9e80-48b7-8d1e-a1ea2539ff6a",
   "metadata": {},
   "outputs": [
    {
     "name": "stdout",
     "output_type": "stream",
     "text": [
      "I have 2 cameras\n"
     ]
    }
   ],
   "source": [
    "print('I have {} cameras'.format(a))"
   ]
  },
  {
   "cell_type": "markdown",
   "id": "08daab95-6636-48df-b2e7-901940e6ef74",
   "metadata": {},
   "source": [
    "3. Modulo Operator (%) with Argument Specifiers\n",
    "\n",
    "We use argument specifiers like %s, %d, etc., in strings which are then replaced by some value.\n",
    "Commonly used:\n",
    "- %s = string\n",
    "- %d = integers\n",
    "- %f = decimals/float\n",
    "- %.f = float with specified number of digits after decimal"
   ]
  },
  {
   "cell_type": "markdown",
   "id": "20fdb3db-5b18-4038-b3b4-8ebd35c66659",
   "metadata": {},
   "source": [
    "Example #1"
   ]
  },
  {
   "cell_type": "code",
   "execution_count": 14,
   "id": "9a5f5115-f446-4ccb-a9a7-c6ef969ed7e7",
   "metadata": {},
   "outputs": [],
   "source": [
    "cake = 'Red Velvet'"
   ]
  },
  {
   "cell_type": "code",
   "execution_count": 15,
   "id": "e676557a-5e43-4a34-87fd-68a9b72df62f",
   "metadata": {},
   "outputs": [],
   "source": [
    "price = 2.5"
   ]
  },
  {
   "cell_type": "code",
   "execution_count": 16,
   "id": "ba8c40a6-3e86-4a44-b4f2-8db99217533a",
   "metadata": {},
   "outputs": [
    {
     "name": "stdout",
     "output_type": "stream",
     "text": [
      "I bought a slice of Red Velvet in Happy Bakery for 2 dollars\n"
     ]
    }
   ],
   "source": [
    "print(\"I bought a slice of %s in Happy Bakery for %.f dollars\" % (cake, price))"
   ]
  }
 ],
 "metadata": {
  "kernelspec": {
   "display_name": "Python 3 (ipykernel)",
   "language": "python",
   "name": "python3"
  },
  "language_info": {
   "codemirror_mode": {
    "name": "ipython",
    "version": 3
   },
   "file_extension": ".py",
   "mimetype": "text/x-python",
   "name": "python",
   "nbconvert_exporter": "python",
   "pygments_lexer": "ipython3",
   "version": "3.11.7"
  }
 },
 "nbformat": 4,
 "nbformat_minor": 5
}
