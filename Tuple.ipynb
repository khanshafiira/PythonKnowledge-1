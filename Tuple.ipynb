{
 "cells": [
  {
   "cell_type": "markdown",
   "id": "b5209dfe-1f54-4409-a7ae-c0d10e844831",
   "metadata": {},
   "source": [
    "TUPLE\n",
    "\n",
    "Tuples are equivalent to lists. The difference is that tuples are immutable, but lists are not. The items of a tuple are enclosed in parenthesis ( ) and separated by commas."
   ]
  },
  {
   "cell_type": "markdown",
   "id": "c967aea5-3f59-4e8c-b1d1-e71773f2b332",
   "metadata": {},
   "source": [
    "Random input with different numbers on tuple"
   ]
  },
  {
   "cell_type": "code",
   "execution_count": 1,
   "id": "9978f091-2e89-482d-8af7-27747e6078de",
   "metadata": {},
   "outputs": [],
   "source": [
    "a = (1, \"three\", 5.7)"
   ]
  },
  {
   "cell_type": "code",
   "execution_count": 2,
   "id": "7a9b00e6-8ad5-4314-b9b3-992d9bab5a71",
   "metadata": {},
   "outputs": [
    {
     "name": "stdout",
     "output_type": "stream",
     "text": [
      "(1, 'three', 5.7)\n"
     ]
    }
   ],
   "source": [
    "print(a) "
   ]
  },
  {
   "cell_type": "code",
   "execution_count": 3,
   "id": "c82fd5ca-1600-4d7a-972c-495e0ee8cd49",
   "metadata": {},
   "outputs": [
    {
     "name": "stdout",
     "output_type": "stream",
     "text": [
      "three\n"
     ]
    }
   ],
   "source": [
    "print(a[1])"
   ]
  },
  {
   "cell_type": "code",
   "execution_count": 4,
   "id": "876ec3e6-b001-482f-9c1e-505dca95ff85",
   "metadata": {},
   "outputs": [
    {
     "name": "stdout",
     "output_type": "stream",
     "text": [
      "(1, 'three', 5.7)\n"
     ]
    }
   ],
   "source": [
    "print(a[0:3])"
   ]
  },
  {
   "cell_type": "markdown",
   "id": "471f7387-b634-4175-9c66-935b5dd799cf",
   "metadata": {},
   "source": [
    "Once produced, tuples cannot be changed"
   ]
  },
  {
   "cell_type": "code",
   "execution_count": 5,
   "id": "eb7c363c-c298-4a6b-b3c5-4600152047af",
   "metadata": {},
   "outputs": [
    {
     "ename": "TypeError",
     "evalue": "'tuple' object does not support item assignment",
     "output_type": "error",
     "traceback": [
      "\u001b[1;31m---------------------------------------------------------------------------\u001b[0m",
      "\u001b[1;31mTypeError\u001b[0m                                 Traceback (most recent call last)",
      "Cell \u001b[1;32mIn[5], line 1\u001b[0m\n\u001b[1;32m----> 1\u001b[0m a[\u001b[38;5;241m0\u001b[39m]\u001b[38;5;241m=\u001b[39m\u001b[38;5;241m13\u001b[39m\n",
      "\u001b[1;31mTypeError\u001b[0m: 'tuple' object does not support item assignment"
     ]
    }
   ],
   "source": [
    "a[0]=13"
   ]
  }
 ],
 "metadata": {
  "kernelspec": {
   "display_name": "Python 3 (ipykernel)",
   "language": "python",
   "name": "python3"
  },
  "language_info": {
   "codemirror_mode": {
    "name": "ipython",
    "version": 3
   },
   "file_extension": ".py",
   "mimetype": "text/x-python",
   "name": "python",
   "nbconvert_exporter": "python",
   "pygments_lexer": "ipython3",
   "version": "3.11.7"
  }
 },
 "nbformat": 4,
 "nbformat_minor": 5
}
