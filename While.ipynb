{
 "cells": [
  {
   "cell_type": "markdown",
   "id": "a02e10b6-b450-4ddd-88f2-01cbd42ece29",
   "metadata": {},
   "source": [
    "WHILE LOOP\n",
    "\n",
    "A while loop is a control flow statement that runs a block of code until a condition is met. It only stops executing the block if the condition fails. A while loop should be used when a repetitive operation must be performed but the number of iterations is unknown ahead of time."
   ]
  },
  {
   "cell_type": "markdown",
   "id": "5457a747-2383-4984-9f14-675a9af1e9a8",
   "metadata": {},
   "source": [
    "1. Basic"
   ]
  },
  {
   "cell_type": "markdown",
   "id": "78e48ff9-80b7-4ad7-9e27-2f7782b7e123",
   "metadata": {},
   "source": [
    "Example #1"
   ]
  },
  {
   "cell_type": "code",
   "execution_count": 1,
   "id": "d2116b15-7545-4537-965c-0478f4ba8ec1",
   "metadata": {},
   "outputs": [
    {
     "name": "stdin",
     "output_type": "stream",
     "text": [
      " 7\n"
     ]
    },
    {
     "name": "stdout",
     "output_type": "stream",
     "text": [
      "the baby is turns 7 months old\n",
      "the baby is turns 8 months old\n",
      "the baby is turns 9 months old\n",
      "the baby is turns 10 months old\n",
      "the baby is turns 11 months old\n"
     ]
    }
   ],
   "source": [
    "age = int(input())\n",
    "\n",
    "while (age < 12):\n",
    "    print(\"the baby is turns {} months old\".format(age))\n",
    "    age = age + 1"
   ]
  },
  {
   "cell_type": "markdown",
   "id": "1acb01ce-1943-49ed-8868-63e5f081ac4f",
   "metadata": {},
   "source": [
    "Example #2"
   ]
  },
  {
   "cell_type": "code",
   "execution_count": 2,
   "id": "d9e890ce-a3f2-435a-aed1-866151d5aa3f",
   "metadata": {},
   "outputs": [
    {
     "name": "stdin",
     "output_type": "stream",
     "text": [
      " 5\n"
     ]
    },
    {
     "name": "stdout",
     "output_type": "stream",
     "text": [
      "the baby is turns 5 months old\n",
      "the baby is turns 8 months old\n",
      "the baby is turns 11 months old\n"
     ]
    }
   ],
   "source": [
    "age = int(input())\n",
    "\n",
    "while (age < 12):\n",
    "    print(\"the baby is turns {} months old\".format(age))\n",
    "    age = age + 3"
   ]
  },
  {
   "cell_type": "markdown",
   "id": "152dfcf4-fb67-4244-a103-6ba4a15b1c5c",
   "metadata": {},
   "source": [
    "2. Else after While"
   ]
  },
  {
   "cell_type": "markdown",
   "id": "030afad3-d3c3-4291-b840-50b2fa24eb9b",
   "metadata": {},
   "source": [
    "Example #1"
   ]
  },
  {
   "cell_type": "code",
   "execution_count": 3,
   "id": "d6fa4d05-b7de-40d2-8b02-56696d7d4a57",
   "metadata": {},
   "outputs": [
    {
     "name": "stdin",
     "output_type": "stream",
     "text": [
      " 9\n"
     ]
    },
    {
     "name": "stdout",
     "output_type": "stream",
     "text": [
      "12\n",
      "15\n",
      "18\n",
      "21\n",
      "weight scale calculation has been completed\n"
     ]
    }
   ],
   "source": [
    "weight = int(input())\n",
    "\n",
    "while (weight < 20):\n",
    "    weight = weight + 3\n",
    "    if weight == 17:\n",
    "        break\n",
    "    print(weight)\n",
    "else:\n",
    "    print(\"weight scale calculation has been completed\")"
   ]
  }
 ],
 "metadata": {
  "kernelspec": {
   "display_name": "Python 3 (ipykernel)",
   "language": "python",
   "name": "python3"
  },
  "language_info": {
   "codemirror_mode": {
    "name": "ipython",
    "version": 3
   },
   "file_extension": ".py",
   "mimetype": "text/x-python",
   "name": "python",
   "nbconvert_exporter": "python",
   "pygments_lexer": "ipython3",
   "version": "3.11.7"
  }
 },
 "nbformat": 4,
 "nbformat_minor": 5
}
